{
 "cells": [
  {
   "cell_type": "code",
   "execution_count": null,
   "metadata": {},
   "outputs": [],
   "source": [
    "#question 1\n",
    "lst=[]\n",
    "n=int(input('enter the no of elements:'))\n",
    "for a in range(n):\n",
    "    s=int(input('enter the number:'))\n",
    "    lst.append(s)\n",
    "print(lst)\n",
    "s=set(lst)\n",
    "print(sorted(s))"
   ]
  },
  {
   "cell_type": "code",
   "execution_count": null,
   "metadata": {},
   "outputs": [],
   "source": [
    "#question 2\n",
    "l=[]\n",
    "n=int(input('enter the no of elements:'))\n",
    "for a in range(n):\n",
    "    s=int(input('enter the number:'))\n",
    "    l.append(s)\n",
    "t=tuple(l)\n",
    "print(t)\n",
    "print(len(t))\n",
    "print(sum(t))\n",
    "print(max(t))\n",
    "print(min(t))"
   ]
  },
  {
   "cell_type": "markdown",
   "metadata": {},
   "source": []
  },
  {
   "cell_type": "code",
   "execution_count": null,
   "metadata": {},
   "outputs": [],
   "source": [
    "#question 3\n",
    "n=int(input('enter a number:'))\n",
    "i=int(input('enter the ith bit:'))\n",
    "b= 1<<i\n",
    "a=n | b\n",
    "print(a)"
   ]
  },
  {
   "cell_type": "code",
   "execution_count": null,
   "metadata": {},
   "outputs": [],
   "source": [
    "#question 4\n",
    "m=int(input('enter a number:'))\n",
    "b=m%2\n",
    "a=1 if(b==1) else 0\n",
    "print(a)"
   ]
  },
  {
   "cell_type": "code",
   "execution_count": null,
   "metadata": {},
   "outputs": [],
   "source": [
    "#question 5\n",
    "a=[1,2,3,4,5,6]\n",
    "b=[8,9,7,10]\n",
    "c=a+b\n",
    "print(sorted(c))\n",
    "print(sorted(c, reverse=True))\n"
   ]
  },
  {
   "cell_type": "code",
   "execution_count": null,
   "metadata": {},
   "outputs": [],
   "source": [
    "#question 6\n",
    "n=int(input(\"enter the number of the students:\"))\n",
    "student={}\n",
    "for a in range(n):\n",
    "    s_name=input('enter the name of the student:')\n",
    "    s_marks=int(input('enter the marks of the student:'))\n",
    "    student[s_name]=s_marks\n",
    "print(student)\n",
    "print(sorted(student,key=student.values()))\n"
   ]
  },
  {
   "cell_type": "code",
   "execution_count": null,
   "metadata": {},
   "outputs": [],
   "source": []
  }
 ],
 "metadata": {
  "kernelspec": {
   "display_name": "Python 3",
   "language": "python",
   "name": "python3"
  },
  "language_info": {
   "codemirror_mode": {
    "name": "ipython",
    "version": 3
   },
   "file_extension": ".py",
   "mimetype": "text/x-python",
   "name": "python",
   "nbconvert_exporter": "python",
   "pygments_lexer": "ipython3",
   "version": "3.7.6"
  }
 },
 "nbformat": 4,
 "nbformat_minor": 4
}
